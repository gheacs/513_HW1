{
 "cells": [
  {
   "cell_type": "markdown",
   "metadata": {},
   "source": [
    "## TECHIN 513 HW1 – Modifying Signals\n",
    "\n",
    "Ghea C Suyono"
   ]
  },
  {
   "cell_type": "markdown",
   "metadata": {},
   "source": [
    "### Assignment 2: Amplitude Operations on Signals"
   ]
  },
  {
   "cell_type": "markdown",
   "metadata": {},
   "source": [
    "#### Part A"
   ]
  },
  {
   "cell_type": "code",
   "execution_count": 1,
   "metadata": {},
   "outputs": [],
   "source": [
    "import numpy as np\n",
    "from scipy.io import wavfile as wav\n",
    "import scipy.signal as sig\n",
    "import matplotlib.pyplot as plt\n",
    "import simpleaudio as sa\n"
   ]
  },
  {
   "cell_type": "markdown",
   "metadata": {},
   "source": [
    "Note:\n",
    "1. fs1 = sampling frequency 1\n",
    "2. len(s1) = len(x1) both signals have the same length\n",
    "3. We try to create a control signal s1\n",
    "4. Find the digital time n that corresponds to t= 0.5s -> n0\n",
    "5. n = int(t * fs)\n"
   ]
  },
  {
   "cell_type": "code",
   "execution_count": 6,
   "metadata": {},
   "outputs": [
    {
     "name": "stdout",
     "output_type": "stream",
     "text": [
      "Sampling rate: 32000 Audio vector [-901 -943 -646 ...  330  169   45]\n",
      "n0= 16000\n"
     ]
    }
   ],
   "source": [
    "#import train32 file\n",
    "fs1, x1 = wav.read('sounds/train32.wav')\n",
    "#print sample rate and vector\n",
    "print('Sampling rate:', fs1, 'Audio vector', x1)\n",
    "x1.shape\n",
    "\n",
    "\n",
    "# 1. Calculate n0\n",
    "n0 = int(0.5 * fs1)\n",
    "print('n0=' , n0)\n",
    "\n",
    "# 2. Create s1\n",
    "# Create a new array where t =[0,0.5] samples are 1 and the rest are 0.2\n",
    "# use np.concatenate to join the two arrays\n",
    "s1 = np.concatenate((np.ones(n0), 0.2 * np.ones(len(x1) - n0)))\n",
    "\n",
    "# 3. Create v1 = s1 * x1\n",
    "v1 = s1 * x1\n",
    "\n",
    "#4 Save v1 as wav file\n",
    "wav.write('sounds/train32_v1.wav', fs1, v1.astype(np.int16))"
   ]
  },
  {
   "cell_type": "markdown",
   "metadata": {},
   "source": [
    "#### Part B"
   ]
  },
  {
   "cell_type": "markdown",
   "metadata": {},
   "source": [
    "Create a discrete time unit ramp signal - function which starts from n=0 and increases linearly"
   ]
  }
 ],
 "metadata": {
  "kernelspec": {
   "display_name": "myenv",
   "language": "python",
   "name": "python3"
  },
  "language_info": {
   "codemirror_mode": {
    "name": "ipython",
    "version": 3
   },
   "file_extension": ".py",
   "mimetype": "text/x-python",
   "name": "python",
   "nbconvert_exporter": "python",
   "pygments_lexer": "ipython3",
   "version": "3.10.13"
  }
 },
 "nbformat": 4,
 "nbformat_minor": 2
}
