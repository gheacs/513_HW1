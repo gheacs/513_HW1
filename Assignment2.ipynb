{
 "cells": [
  {
   "cell_type": "markdown",
   "metadata": {},
   "source": [
    "## TECHIN 513 HW1 – Modifying Signals\n",
    "\n",
    "Ghea C Suyono"
   ]
  },
  {
   "cell_type": "markdown",
   "metadata": {},
   "source": [
    "### Assignment 2: Amplitude Operations on Signals"
   ]
  },
  {
   "cell_type": "markdown",
   "metadata": {},
   "source": [
    "#### Part A"
   ]
  },
  {
   "cell_type": "code",
   "execution_count": 1,
   "metadata": {},
   "outputs": [],
   "source": [
    "import numpy as np\n",
    "from scipy.io import wavfile as wav\n",
    "import scipy.signal as sig\n",
    "import matplotlib.pyplot as plt\n",
    "import simpleaudio as sa\n"
   ]
  },
  {
   "cell_type": "markdown",
   "metadata": {},
   "source": [
    "Note:\n",
    "1. fs1 = sampling frequency 1\n",
    "2. len(s1) = len(x1) both signals have the same length\n",
    "3. We try to create a control signal s1\n",
    "4. Find the digital time n that corresponds to t= 0.5s -> n0\n",
    "5. n = int(t * fs)\n"
   ]
  },
  {
   "cell_type": "code",
   "execution_count": 6,
   "metadata": {},
   "outputs": [
    {
     "name": "stdout",
     "output_type": "stream",
     "text": [
      "Sampling rate: 32000 Audio vector [-901 -943 -646 ...  330  169   45]\n",
      "n0= 16000\n"
     ]
    }
   ],
   "source": [
    "#import train32 file\n",
    "fs1, x1 = wav.read('sounds/train32.wav')\n",
    "#print sample rate and vector\n",
    "print('Sampling rate:', fs1, 'Audio vector', x1)\n",
    "x1.shape\n",
    "\n",
    "\n",
    "# 1. Calculate n0\n",
    "n0 = int(0.5 * fs1)\n",
    "print('n0=' , n0)\n",
    "\n",
    "# 2. Create s1\n",
    "# Create a new array where t =[0,0.5] samples are 1 and the rest are 0.2\n",
    "# use np.concatenate to join the two arrays\n",
    "s1 = np.concatenate((np.ones(n0), 0.2 * np.ones(len(x1) - n0)))\n",
    "\n",
    "# 3. Create v1 = s1 * x1\n",
    "v1 = s1 * x1\n",
    "\n",
    "#4 Save v1 as wav file\n",
    "wav.write('sounds/train32_v1.wav', fs1, v1.astype(np.int16))"
   ]
  },
  {
   "cell_type": "markdown",
   "metadata": {},
   "source": [
    "#### Part B"
   ]
  },
  {
   "cell_type": "markdown",
   "metadata": {},
   "source": [
    "Create a discrete time unit ramp signal - function which increases/ decreases linearly\n",
    "\n",
    "Note:\n",
    "1. len(r1) = len(x1)\n",
    "2. r1 signal should have value 1 at t=0 and linearly decay to value 0\n",
    "3. t = np.arange(start, stop, ts)"
   ]
  },
  {
   "cell_type": "code",
   "execution_count": 22,
   "metadata": {},
   "outputs": [
    {
     "data": {
      "text/plain": [
       "array([1.00000000e+00, 9.99980124e-01, 9.99960249e-01, ...,\n",
       "       5.96267366e-05, 3.97511578e-05, 1.98755789e-05])"
      ]
     },
     "execution_count": 22,
     "metadata": {},
     "output_type": "execute_result"
    }
   ],
   "source": [
    "# 1.Create an array that has value 1 at t=0 and decrease linearly to value 0\n",
    "np.arange(len(x1))\n",
    "np.arange(len(x1)) / len(x1)\n",
    "1 - (np.arange(len(x1)) / len(x1))\n"
   ]
  },
  {
   "cell_type": "code",
   "execution_count": 23,
   "metadata": {},
   "outputs": [],
   "source": [
    "# 2. Create r1\n",
    "r1 = 1 - (np.arange(len(x1)) / len(x1))\n",
    "\n",
    "# 3. Create v2 = r1 * x1\n",
    "v2 = r1 * x1\n",
    "\n",
    "#4. Save v2 as wav file\n",
    "wav.write('sounds/train32_v2.wav', fs1, v2.astype(np.int16))"
   ]
  },
  {
   "cell_type": "markdown",
   "metadata": {},
   "source": [
    "#### Part C"
   ]
  },
  {
   "cell_type": "markdown",
   "metadata": {},
   "source": [
    "Read both new audio file versions using simpleaudio"
   ]
  },
  {
   "cell_type": "code",
   "execution_count": 24,
   "metadata": {},
   "outputs": [],
   "source": [
    "def play_audio(file_path):\n",
    "    wave_obj = sa.WaveObject.from_wave_file(file_path)\n",
    "    play_obj = wave_obj.play()\n",
    "    play_obj.wait_done()\n",
    "    \n",
    "# Play v1 and v2\n",
    "play_audio('sounds/train32_v1.wav')\n",
    "play_audio('sounds/train32_v2.wav')"
   ]
  },
  {
   "cell_type": "markdown",
   "metadata": {},
   "source": [
    "#### Report Discussion"
   ]
  },
  {
   "cell_type": "markdown",
   "metadata": {},
   "source": [
    "1. The difference between v1 and v2: v1 has a sudden decrease in amplitude (volume) at the end of the file since we suddenly reduce the value to 0.2 after t= 0.5s, while v2 is smoother since the decrease in amplitude is more gradual.\n",
    "2. What would happen if s1 takes value 2 for t= [0, 0.5]? the sudden decrease would be more distinct since the amplitude on the first half would be louder.\n",
    "3. If we want a smooth but faster decay, we would choose v2 signal"
   ]
  }
 ],
 "metadata": {
  "kernelspec": {
   "display_name": "myenv",
   "language": "python",
   "name": "python3"
  },
  "language_info": {
   "codemirror_mode": {
    "name": "ipython",
    "version": 3
   },
   "file_extension": ".py",
   "mimetype": "text/x-python",
   "name": "python",
   "nbconvert_exporter": "python",
   "pygments_lexer": "ipython3",
   "version": "3.10.13"
  }
 },
 "nbformat": 4,
 "nbformat_minor": 2
}
