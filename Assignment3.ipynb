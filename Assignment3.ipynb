{
 "cells": [
  {
   "cell_type": "markdown",
   "metadata": {},
   "source": [
    "## TECHIN 513 HW1 – Modifying Signals\n",
    "\n",
    "Ghea C Suyono"
   ]
  },
  {
   "cell_type": "markdown",
   "metadata": {},
   "source": [
    "### Assignment 3: Time Scaling Audio Signals"
   ]
  },
  {
   "cell_type": "markdown",
   "metadata": {},
   "source": [
    "#### Part A"
   ]
  },
  {
   "cell_type": "code",
   "execution_count": 2,
   "metadata": {},
   "outputs": [],
   "source": [
    "#Import relevant libraries\n",
    "import numpy as np\n",
    "import matplotlib.pyplot as plt\n",
    "from scipy.io import wavfile as wavfile\n",
    "import scipy.signal as sig\n",
    "import simpleaudio as sa\n"
   ]
  },
  {
   "cell_type": "code",
   "execution_count": 10,
   "metadata": {},
   "outputs": [],
   "source": [
    "# Import the audio file\n",
    "fs1, x1 = wavfile.read('sounds/train32.wav')\n"
   ]
  },
  {
   "cell_type": "code",
   "execution_count": 13,
   "metadata": {},
   "outputs": [],
   "source": [
    "#Timescale function from Assignment 1\n",
    "\n",
    "def timescale(x, fs,a):\n",
    "    ratio = (np.double(a).as_integer_ratio())\n",
    "    numerator = ratio[0]\n",
    "    denominator = ratio[1]\n",
    "    y = sig.resample_poly([float(i) for i in x], denominator, numerator)\n",
    "    t = (np.arange(0, len(y), 1)) / fs\n",
    "    return y, t"
   ]
  },
  {
   "cell_type": "markdown",
   "metadata": {},
   "source": [
    "#### Part B"
   ]
  },
  {
   "cell_type": "markdown",
   "metadata": {},
   "source": [
    "Obtain w(t)=x1(2t) and v(t)=x1(0.5t) using above timescale function"
   ]
  },
  {
   "cell_type": "code",
   "execution_count": 15,
   "metadata": {},
   "outputs": [
    {
     "name": "stdout",
     "output_type": "stream",
     "text": [
      "w: [-720.59515602 -710.89801037   -2.27496413 ...  595.03570116  328.19656256\n",
      "   49.89027877] t_w: [0.0000000e+00 3.1250000e-05 6.2500000e-05 ... 7.8606250e-01 7.8609375e-01\n",
      " 7.8612500e-01]\n",
      "v: [ -901.46624101 -1063.18300467  -943.48797477 ...    98.75996632\n",
      "    45.02328618    12.83713652] t_v: [0.00000000e+00 3.12500000e-05 6.25000000e-05 ... 3.14446875e+00\n",
      " 3.14450000e+00 3.14453125e+00]\n"
     ]
    }
   ],
   "source": [
    "# Part a\n",
    "# w = scaled signal\n",
    "# t_w = time vector for scaled signal\n",
    "a = 2\n",
    "\n",
    "w, t_w = timescale(x1, fs1, a)\n",
    "print('w:', w, 't_w:', t_w)\n",
    "\n",
    "# Part b\n",
    "# w = scaled signal\n",
    "# t_w = time vector for scaled signal\n",
    "a = 0.5\n",
    "v, t_v = timescale(x1, fs1, a)\n",
    "print('v:', v, 't_v:', t_v)"
   ]
  },
  {
   "cell_type": "markdown",
   "metadata": {},
   "source": [
    "Create a time-reversed version of the signal z(t)=x1(-t) by reversing the order of\n",
    "elements in the sequence."
   ]
  },
  {
   "cell_type": "code",
   "execution_count": 26,
   "metadata": {},
   "outputs": [],
   "source": [
    "# Part c and d\n",
    "\n",
    "#t_z = t_x1\n",
    "# 1. Reverse the x1 signal\n",
    "z= x1[::-1]\n",
    "\n",
    "# 2. Use z(t) = np.ascontiguousarray(z(t)) to convert z(t) to a C-contiguous array\n",
    "z = np.ascontiguousarray(z)\n",
    "\n",
    "# 3. Save the reversed signal as a .wav file\n",
    "wavfile.write('sounds/train32_reversed.wav', fs1, z.astype(np.int16))"
   ]
  },
  {
   "cell_type": "markdown",
   "metadata": {},
   "source": [
    "#### Part C"
   ]
  },
  {
   "cell_type": "markdown",
   "metadata": {},
   "source": [
    "Create a plot of the four signals (x1, w, v and z):  \n",
    "    1. Use 4 x 1 subplot  \n",
    "    2. time axis in ms (multiply the time array by 1000)  \n",
    "    3. No overlap in spacing  "
   ]
  },
  {
   "cell_type": "code",
   "execution_count": null,
   "metadata": {},
   "outputs": [],
   "source": [
    "# 1. Convert the time to ms\n"
   ]
  }
 ],
 "metadata": {
  "kernelspec": {
   "display_name": "myenv",
   "language": "python",
   "name": "python3"
  },
  "language_info": {
   "codemirror_mode": {
    "name": "ipython",
    "version": 3
   },
   "file_extension": ".py",
   "mimetype": "text/x-python",
   "name": "python",
   "nbconvert_exporter": "python",
   "pygments_lexer": "ipython3",
   "version": "3.10.13"
  }
 },
 "nbformat": 4,
 "nbformat_minor": 2
}
