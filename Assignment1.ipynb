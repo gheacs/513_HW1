{
 "cells": [
  {
   "cell_type": "markdown",
   "metadata": {},
   "source": [
    "## TECHIN 513 HW1 – Modifying Signals\n",
    "\n",
    "Ghea C Suyono"
   ]
  },
  {
   "cell_type": "markdown",
   "metadata": {},
   "source": [
    "### Assignment 1: Working with Sound Files"
   ]
  },
  {
   "cell_type": "code",
   "execution_count": 23,
   "metadata": {},
   "outputs": [],
   "source": [
    "# Import relevant libraries\n",
    "\n",
    "import numpy as np\n",
    "import matplotlib.pyplot as plt\n",
    "from scipy.io import wavfile as wav\n",
    "import simpleaudio as sa\n",
    "import scipy.signal as sig"
   ]
  },
  {
   "cell_type": "markdown",
   "metadata": {},
   "source": [
    "#### Part A"
   ]
  },
  {
   "cell_type": "markdown",
   "metadata": {},
   "source": [
    "##### Use Scipy.io to read audio file\n",
    "Note: \n",
    "- fs1: sampling frequency 1\n",
    "- x1: audio vector\n"
   ]
  },
  {
   "cell_type": "code",
   "execution_count": 6,
   "metadata": {},
   "outputs": [
    {
     "name": "stdout",
     "output_type": "stream",
     "text": [
      "Sampling rate: 32000 Audio vector [-901 -943 -646 ...  330  169   45]\n"
     ]
    },
    {
     "data": {
      "text/plain": [
       "(50313,)"
      ]
     },
     "execution_count": 6,
     "metadata": {},
     "output_type": "execute_result"
    }
   ],
   "source": [
    "#import train32 file\n",
    "fs1, x1 = wav.read('sounds/train32.wav')\n",
    "#print sample rate and vector\n",
    "print('Sampling rate:', fs1, 'Audio vector', x1)\n",
    "x1.shape\n"
   ]
  },
  {
   "cell_type": "markdown",
   "metadata": {},
   "source": [
    "The data above shows that:\n",
    "1. The sampling rate of train32 file is 32kHz \n",
    "2. The shape of audio data array is 1D array (mono) with 50,313 samples."
   ]
  },
  {
   "cell_type": "code",
   "execution_count": 36,
   "metadata": {},
   "outputs": [],
   "source": [
    "#Perform time scaling on the audio signal\n",
    "#Define the time scaling factor\n",
    "# a: scaling parameter. This has to be a decimal value for as_integer_ratio\n",
    "\n",
    "def timescale(x, fs, a):\n",
    "    # 1. Convert the scaling factor to a ratio of integers\n",
    "    ratio = (np.double(a)).as_integer_ratio()\n",
    "    \n",
    "    # 2. Define the numerator and denominator of the ratio\n",
    "    numerator = ratio[0]\n",
    "    denominator = ratio[1]\n",
    "    \n",
    "    # 3. Resample the audio signal use scipy.signal (sig)\n",
    "    #Convert input signal (x) to a floating point number to ensure data type is consistent\n",
    "    # y: resampled audio signal\n",
    "    y = sig.resample_poly([float(i) for i in x], denominator, numerator)\n",
    "    \n",
    "    # 4. Define the new audio vector -> np.arange(start, stop, tsample)\n",
    "    t = np.arange(0, len(y), 1) * (1/fs)\n",
    "    \n",
    "    # 5. Returns t: time samples vector corresponding to y: scaled signal\n",
    "    return y, t\n"
   ]
  },
  {
   "cell_type": "code",
   "execution_count": 37,
   "metadata": {},
   "outputs": [
    {
     "name": "stdout",
     "output_type": "stream",
     "text": [
      "Scaled signal: [-777.06971284 -867.64903067 -248.37940892 ...  546.0978636   330.86783035\n",
      "   98.78339607] Scaled time vector: [0.00000000e+00 3.12500000e-05 6.25000000e-05 ... 1.04809375e+00\n",
      " 1.04812500e+00 1.04815625e+00]\n"
     ]
    }
   ],
   "source": [
    "#Perform time scaling on the train32 audio signal\n",
    "a = 1.5\n",
    "\n",
    "scaled_signal, scaled_time_vector = timescale(x1, fs1, a)\n",
    "print('Scaled signal:', scaled_signal, 'Scaled time vector:', scaled_time_vector)"
   ]
  },
  {
   "cell_type": "markdown",
   "metadata": {},
   "source": [
    "#### Part B"
   ]
  },
  {
   "cell_type": "markdown",
   "metadata": {},
   "source": [
    "##### Create two new versions of the file with different sampling rates.\n",
    "- fs2: 1/2fs1\n",
    "- fs3: 1.5fs1"
   ]
  },
  {
   "cell_type": "code",
   "execution_count": 47,
   "metadata": {},
   "outputs": [],
   "source": [
    "# 1. Define new sampling rates\n",
    "fs2 = int(fs1 / 2) # 1/2 of the original sampling rate\n",
    "fs3 = int(1.5 * fs1)  # 1.5 times the original sampling rate\n",
    "\n",
    "# 2. Resample the audio signal using scipy.signal (sig)\n",
    "# y2: resampled audio signal with fs2\n",
    "# y3: resampled audio signal with fs3\n",
    "\n",
    "y2 = sig.resample_poly([float(i) for i in x1], 2, 1)\n",
    "y3 = sig.resample_poly([float(i) for i in x1], 2, 3)\n",
    "\n",
    "# 3. Write the new audio file using scipy.io.wavfile.write\n",
    "wav.write('sounds/train32_2.wav', fs2, y2.astype(np.int16))\n",
    "wav.write('sounds/train32_3.wav', fs3, y3.astype(np.int16)) # Convert to 16-bit integers\n",
    "\n"
   ]
  },
  {
   "cell_type": "markdown",
   "metadata": {},
   "source": [
    "#### Part C"
   ]
  },
  {
   "cell_type": "markdown",
   "metadata": {},
   "source": [
    "##### Read 3 different version of audio file using simple audio"
   ]
  },
  {
   "cell_type": "code",
   "execution_count": 49,
   "metadata": {},
   "outputs": [],
   "source": [
    "def play_audio(file_path):\n",
    "    wave_obj = sa.WaveObject.from_wave_file(file_path)\n",
    "    play_obj = wave_obj.play()\n",
    "    play_obj.wait_done()\n",
    "\n",
    "# Play the original file\n",
    "play_audio('sounds/train32.wav')\n",
    "\n",
    "# Play the modified files\n",
    "play_audio('sounds/train32_2.wav')\n",
    "play_audio('sounds/train32_3.wav')"
   ]
  },
  {
   "cell_type": "markdown",
   "metadata": {},
   "source": [
    "#### Report Discussion"
   ]
  },
  {
   "cell_type": "markdown",
   "metadata": {},
   "source": [
    "- Fs2 ('train32_2.wav'): Slowing down the audio by halfing the sample rate makes the audio sounds unclear.\n",
    "- Fs3 ('train32_3.wav'): Speeding up the audio by multiplying 1.5 to the original sample rate resulted in higher pitch audio sound."
   ]
  }
 ],
 "metadata": {
  "kernelspec": {
   "display_name": "Python 3",
   "language": "python",
   "name": "python3"
  },
  "language_info": {
   "codemirror_mode": {
    "name": "ipython",
    "version": 3
   },
   "file_extension": ".py",
   "mimetype": "text/x-python",
   "name": "python",
   "nbconvert_exporter": "python",
   "pygments_lexer": "ipython3",
   "version": "3.10.13"
  }
 },
 "nbformat": 4,
 "nbformat_minor": 2
}
